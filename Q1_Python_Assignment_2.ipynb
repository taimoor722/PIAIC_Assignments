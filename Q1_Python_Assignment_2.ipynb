{
 "cells": [
  {
   "cell_type": "markdown",
   "metadata": {},
   "source": [
    "###  Classic Chines Puzzle  \n",
    "\n",
    "so i have to ways to solve this puzzle \n",
    "1. using algebric linear equation\n",
    "2. intutively solving it\n",
    "\n",
    "###  Classic Chines Puzzle  \n",
    "\n",
    "ways to solve this puzzle \n",
    "1. using algebric linear equation\n",
    "\n",
    "##### Q) we count 35 heads and 94 legs among the chickens and rabbits in a farm find how many are chicken and how many are rabbits\n",
    "rabit has 4 legs<br>\n",
    "chicken has 2 legs<br>\n",
    "\n",
    "1. method algebra equation <br>\n",
    "   94  = no_of_chicken*2 + no_of_rabit*4<br>\n",
    "   35  = no_of_chicken + no_of_rabit<br>\n",
    "   \n",
    "   here unknow are <br>\n",
    "   ***no_of_cat*** <br>\n",
    "   ***no_of_rabit***  <br>\n",
    "   2 unknow 2 equation so we can solve it<br> \n",
    "   \n",
    "   35 - no_of_rabit = no_of_cat<br>\n",
    "   putting  no_of_cat above equation into first one <br>\n",
    "   \n",
    "   so equation become <br>\n",
    "   94 = (35-rabit)*2 +(rabit)*4  <br>\n",
    "   now divide both sides with 2 we get <br>\n",
    "   47 = 35 - rabit + rabit*2<br>\n",
    "   47-35 = rabit\n",
    "   12 = rabit\n",
    "2. intutive way  <br>\n",
    "   \n",
    "   first lets just give away 2 legs to each head/animal<br>\n",
    "   so 35*2=70 we have just given 70 legs <br>\n",
    "   each animal has 2 legs now <br>\n",
    "   remaining legs are 94-70 =24 <br>\n",
    "   this remaining legs belong to rabit only because they are the only one who are missing legs<br>\n",
    "   chickens has already gone just by using there 2 legs which we gave<br>\n",
    "   rabits have to wait for second round of leg<br>\n",
    "   so remaing legs are 24 and each rabit get to so<br>\n",
    "   rabits = 24/2=12<br>\n",
    "   so 12 are rabit and 35-12=23 <br>\n",
    "   23 are chicken<br>\n",
    "   \n",
    "   this is called intutive way :P"
   ]
  },
  {
   "cell_type": "code",
   "execution_count": 9,
   "metadata": {},
   "outputs": [],
   "source": [
    "def chicken_rabit_farm(total_legs=94,total_heads=35):\n",
    "    rabit_leg=4\n",
    "    chicken_leg=2 \n",
    "    \n",
    "    first_round_legs_given=total_heads*chicken_leg #to eliminate  animal that have less leg requirment  compare to other one\n",
    "    remaining_leg= total_legs-first_round_legs_given\n",
    "    total_rabits=remaining_leg//2\n",
    "    total_chicken=total_heads-total_rabits\n",
    "    \n",
    "    print(f'Total Rabits are : {total_rabits}\\nTotal Chicken are : {total_chicken}')"
   ]
  },
  {
   "cell_type": "code",
   "execution_count": 13,
   "metadata": {},
   "outputs": [
    {
     "name": "stdout",
     "output_type": "stream",
     "text": [
      "Total Rabits are : 12\n",
      "Total Chicken are : 23\n"
     ]
    }
   ],
   "source": [
    "chicken_rabit_farm() #u can give argument any value of head and legs it will give u correct answer without for loop :P intution"
   ]
  },
  {
   "cell_type": "markdown",
   "metadata": {},
   "source": [
    "### 2.Display only even index character of string"
   ]
  },
  {
   "cell_type": "code",
   "execution_count": 16,
   "metadata": {},
   "outputs": [
    {
     "name": "stdout",
     "output_type": "stream",
     "text": [
      "Enter sentence :h1e2l3l4o5w6o7r8l9d\n",
      "helloworld\n"
     ]
    }
   ],
   "source": [
    "sentence=input('Enter sentence :')\n",
    "print(sentence[::2])"
   ]
  },
  {
   "cell_type": "markdown",
   "metadata": {},
   "source": [
    "### 3. reverse string order"
   ]
  },
  {
   "cell_type": "code",
   "execution_count": 17,
   "metadata": {},
   "outputs": [
    {
     "name": "stdout",
     "output_type": "stream",
     "text": [
      "Enter sentence :abcdefghijklmnopqurstuwxyz\n",
      "zyxwutsruqponmlkjihgfedcba\n"
     ]
    }
   ],
   "source": [
    "sentence=input('Enter sentence :')\n",
    "print(sentence[::-1])"
   ]
  },
  {
   "cell_type": "markdown",
   "metadata": {},
   "source": [
    "### 4. count character repetation in string\n",
    "using map-reducer technique"
   ]
  },
  {
   "cell_type": "code",
   "execution_count": 64,
   "metadata": {},
   "outputs": [
    {
     "name": "stdout",
     "output_type": "stream",
     "text": [
      "Enter sentence :abcdefgabc\n",
      "a , 2\n",
      "b , 2\n",
      "c , 2\n",
      "d , 1\n",
      "e , 1\n",
      "f , 1\n",
      "g , 1\n"
     ]
    }
   ],
   "source": [
    "sentence=input('Enter sentence :')\n",
    "ls=list(sentence)\n",
    "def count(n):\n",
    "    return 1\n",
    "mapped=list(map(count,ls))\n",
    "tup=tuple(zip(ls,mapped) )\n",
    "tup\n",
    "di=dict()\n",
    "for k,v in tup:\n",
    "    di[k]=di.get(k,0)+1\n",
    "di\n",
    "for k,v in di.items():\n",
    "    print(k,',',v)"
   ]
  },
  {
   "cell_type": "markdown",
   "metadata": {},
   "source": [
    "###### another way"
   ]
  },
  {
   "cell_type": "code",
   "execution_count": 65,
   "metadata": {},
   "outputs": [
    {
     "name": "stdout",
     "output_type": "stream",
     "text": [
      "a , 2\n",
      "b , 2\n",
      "c , 2\n",
      "d , 1\n",
      "e , 1\n",
      "f , 1\n",
      "g , 1\n"
     ]
    }
   ],
   "source": [
    "from functools import reduce\n",
    "def fun(d,x):\n",
    "    d[x]=d.get(x,0)+1\n",
    "    return d\n",
    "di=reduce(fun,ls,{})\n",
    "for k,v in di.items():\n",
    "    print(k,',',v)"
   ]
  },
  {
   "cell_type": "markdown",
   "metadata": {},
   "source": [
    "###### another method"
   ]
  },
  {
   "cell_type": "code",
   "execution_count": 66,
   "metadata": {},
   "outputs": [
    {
     "name": "stdout",
     "output_type": "stream",
     "text": [
      "a , 2\n",
      "b , 2\n",
      "c , 2\n",
      "d , 1\n",
      "e , 1\n",
      "f , 1\n",
      "g , 1\n"
     ]
    }
   ],
   "source": [
    "from collections import Counter\n",
    "count=Counter(sentence)\n",
    "di=dict(count)\n",
    "for k,v in di.items():\n",
    "    print(k,',',v)"
   ]
  },
  {
   "cell_type": "markdown",
   "metadata": {},
   "source": [
    "### 5.Define class Shape , subclass Square with Area function"
   ]
  },
  {
   "cell_type": "code",
   "execution_count": 115,
   "metadata": {},
   "outputs": [],
   "source": [
    "class Shape():\n",
    "        \n",
    "    def area(self):\n",
    "        self.area=0\n",
    "        print('shape area : {}'.format(self.area))"
   ]
  },
  {
   "cell_type": "code",
   "execution_count": 136,
   "metadata": {},
   "outputs": [],
   "source": [
    "class Square(Shape):\n",
    "    def __init__(self,length):\n",
    "        super().__init__()  #or use name directly    #Shape.__init__(self)\n",
    "        self.length=length\n",
    "        \n",
    "    def area(self):\n",
    "        self.area=self.length**2\n",
    "        print('area of square is : {}'.format(self.area)) "
   ]
  },
  {
   "cell_type": "code",
   "execution_count": 137,
   "metadata": {},
   "outputs": [],
   "source": [
    "obj=Square(10)"
   ]
  },
  {
   "cell_type": "code",
   "execution_count": 138,
   "metadata": {},
   "outputs": [
    {
     "name": "stdout",
     "output_type": "stream",
     "text": [
      "area of square is : 100\n"
     ]
    }
   ],
   "source": [
    "obj.area()"
   ]
  },
  {
   "cell_type": "code",
   "execution_count": 139,
   "metadata": {},
   "outputs": [],
   "source": [
    "obj=Shape()"
   ]
  },
  {
   "cell_type": "code",
   "execution_count": 140,
   "metadata": {},
   "outputs": [
    {
     "name": "stdout",
     "output_type": "stream",
     "text": [
      "shape area : 0\n"
     ]
    }
   ],
   "source": [
    "obj.area()"
   ]
  },
  {
   "cell_type": "markdown",
   "metadata": {},
   "source": [
    "### 6.Try Except"
   ]
  },
  {
   "cell_type": "code",
   "execution_count": 150,
   "metadata": {},
   "outputs": [],
   "source": [
    "def compute_division(numerator,denominator):\n",
    "    try:\n",
    "        result=numerator/denominator\n",
    "    except ZeroDivisionError as e:\n",
    "        print(e,'Error')"
   ]
  },
  {
   "cell_type": "code",
   "execution_count": 151,
   "metadata": {},
   "outputs": [
    {
     "name": "stdout",
     "output_type": "stream",
     "text": [
      "division by zero Error\n"
     ]
    }
   ],
   "source": [
    "compute_division(5,0)"
   ]
  },
  {
   "cell_type": "markdown",
   "metadata": {},
   "source": [
    "### 7. Get user name from email address"
   ]
  },
  {
   "cell_type": "code",
   "execution_count": 181,
   "metadata": {},
   "outputs": [
    {
     "name": "stdout",
     "output_type": "stream",
     "text": [
      "Enter email address : taimoor@gmail.com\n",
      "name of employee is Taimoor\n"
     ]
    }
   ],
   "source": [
    "email=input('Enter email address : ')\n",
    "import re\n",
    "name=re.compile(r'(\\w+)(?=@)',flags=re.IGNORECASE).findall(email)\n",
    "\n",
    "print('name of employee is {}'.format(name[0].title()))"
   ]
  },
  {
   "cell_type": "markdown",
   "metadata": {},
   "source": [
    "### 8.scrap digits from string"
   ]
  },
  {
   "cell_type": "code",
   "execution_count": 183,
   "metadata": {},
   "outputs": [
    {
     "name": "stdout",
     "output_type": "stream",
     "text": [
      "Enter string : 2 cats 3 dogs\n"
     ]
    },
    {
     "data": {
      "text/plain": [
       "['2', '3']"
      ]
     },
     "execution_count": 183,
     "metadata": {},
     "output_type": "execute_result"
    }
   ],
   "source": [
    "sentence=input('Enter string : ')\n",
    "import re\n",
    "re.compile(r'[0-9]+').findall(sentence)"
   ]
  },
  {
   "cell_type": "markdown",
   "metadata": {},
   "source": [
    "### 9.Compute Sequence sum"
   ]
  },
  {
   "cell_type": "code",
   "execution_count": 203,
   "metadata": {},
   "outputs": [],
   "source": [
    "def compute_sequence_sum(n=5):\n",
    "    if n == 1:\n",
    "        \n",
    "        return 1/2\n",
    "    else:\n",
    "        \n",
    "        return round(n/(n+1) + compute_sequence_sum(n-1),2)"
   ]
  },
  {
   "cell_type": "code",
   "execution_count": 204,
   "metadata": {},
   "outputs": [
    {
     "name": "stdout",
     "output_type": "stream",
     "text": [
      "Enter nth term of sequence : 5\n"
     ]
    },
    {
     "data": {
      "text/plain": [
       "3.55"
      ]
     },
     "execution_count": 204,
     "metadata": {},
     "output_type": "execute_result"
    }
   ],
   "source": [
    "n=float(input('Enter nth term of sequence : '))\n",
    "compute_sequence_sum()"
   ]
  },
  {
   "cell_type": "markdown",
   "metadata": {},
   "source": [
    "### 10. Additor Function:"
   ]
  },
  {
   "cell_type": "code",
   "execution_count": 262,
   "metadata": {},
   "outputs": [],
   "source": [
    "def additor_fun(n):\n",
    "    if n>0:\n",
    "        return multiplier_fun(n-1) +100 -1\n",
    "    elif n == 0:\n",
    "        return 1\n",
    "   "
   ]
  },
  {
   "cell_type": "code",
   "execution_count": 265,
   "metadata": {},
   "outputs": [
    {
     "data": {
      "text/plain": [
       "500"
      ]
     },
     "execution_count": 265,
     "metadata": {},
     "output_type": "execute_result"
    }
   ],
   "source": [
    "additor_fun(5)"
   ]
  },
  {
   "cell_type": "markdown",
   "metadata": {},
   "source": [
    "### 11.Check Passoward validation"
   ]
  },
  {
   "cell_type": "code",
   "execution_count": 558,
   "metadata": {},
   "outputs": [],
   "source": [
    "def password_checker(passwords):\n",
    "    import re\n",
    "#     print(passwords)\n",
    "    for password in passwords:\n",
    "        no_of_pass=0\n",
    "        for check in [r'[a-z]+',r'[0-9]+',r'[A-Z]+',r'[$#@\\s]+',r'^\\w+[^\\s]+']:\n",
    "            if (re.search(check,password) != None) & (len(password) >=6 & len(password) <=12):\n",
    "                no_of_pass+=1\n",
    "                print('\\n',password,'\\npassword is valid') if no_of_pass == 5 else None\n",
    "            else:\n",
    "#                 print(check,password)\n",
    "                break\n",
    "\n",
    "        "
   ]
  },
  {
   "cell_type": "code",
   "execution_count": 561,
   "metadata": {},
   "outputs": [
    {
     "name": "stdout",
     "output_type": "stream",
     "text": [
      "Enter All Passwords Seperated By Comma :ABs@123,a F1#,2w3E,2We3345\n",
      "\n",
      " ABs@123 \n",
      "password is valid\n"
     ]
    }
   ],
   "source": [
    "ls=input('Enter All Passwords Seperated By Comma :')\n",
    "ls=ls.split(',')\n",
    "password_checker(ls)"
   ]
  },
  {
   "cell_type": "markdown",
   "metadata": {},
   "source": [
    "### 12. Sort By Name , Age,Height"
   ]
  },
  {
   "cell_type": "code",
   "execution_count": 3,
   "metadata": {},
   "outputs": [
    {
     "name": "stdout",
     "output_type": "stream",
     "text": [
      "Enter=> Name,Age,Height <=and press enter\n",
      "OR\n",
      "Enter . Dot to End \n",
      "Tom,19,80\n",
      "John,20,90\n",
      "Jony,17,91\n",
      "Jony,17,93\n",
      "Json,21,85\n",
      ".\n",
      "=======sorted By NAME then Age Then Height==========\n",
      "John 20 90\n",
      "Jony 17 91\n",
      "Jony 17 93\n",
      "Json 21 85\n",
      "Tom 19 80\n"
     ]
    }
   ],
   "source": [
    "print('Enter=> Name,Age,Height <=and press enter\\nOR\\nEnter . Dot to End ')\n",
    "n_age_h = [tuple(input(\"\").split(','))]\n",
    "\n",
    "while n_age_h[-1] != ('.',):\n",
    "    n_age_h.append(tuple(input(\"\").split(',')))\n",
    "\n",
    "del n_age_h[-1]\n",
    "\n",
    "def fun(x):\n",
    "    return x[0],x[1],x[2]\n",
    "result=list(sorted(n_age_h,key=fun))\n",
    "print('=======sorted By NAME then Age Then Height==========')\n",
    "\n",
    "for each in result:\n",
    "    print(*each)\n",
    "#Tom,19,80\n",
    "# John,20,90\n",
    "# Jony,17,91\n",
    "# Jony,17,93\n",
    "# Json,21,85"
   ]
  },
  {
   "cell_type": "markdown",
   "metadata": {},
   "source": [
    "##### using itemgetter\n",
    "\n",
    "https://docs.python.org/3/library/operator.html"
   ]
  },
  {
   "cell_type": "code",
   "execution_count": 648,
   "metadata": {},
   "outputs": [
    {
     "name": "stdout",
     "output_type": "stream",
     "text": [
      "Enter Tuples Seperated By Comma :  (Tom,19,80),(John,20,90),(Jony,17,91),(Jony,17,93),(Json,21,85)\n",
      "\n",
      "Sorted By Name, Age, Weight\n"
     ]
    },
    {
     "data": {
      "text/plain": [
       "[('John', 20, 90),\n",
       " ('Jony', 17, 91),\n",
       " ('Jony', 17, 93),\n",
       " ('Json', 21, 85),\n",
       " ('Tom', 19, 80)]"
      ]
     },
     "execution_count": 648,
     "metadata": {},
     "output_type": "execute_result"
    }
   ],
   "source": [
    "from operator import itemgetter\n",
    "giving_input=input('Enter Tuples Seperated By Comma :  ')\n",
    "giving_input=giving_input.replace('(','').replace(')','')\n",
    "\n",
    "giving_input=giving_input.split(',')\n",
    "\n",
    "\n",
    "\n",
    "name=(itemgetter(*list(range(len(giving_input))[::3]))(giving_input))\n",
    "\n",
    "age=tuple(int(i) for i in (itemgetter(*list(range(len(giving_input))[1::3]))(giving_input)) )\n",
    "height=tuple(int(i) for i in (itemgetter(*list(range(len(giving_input))[2::3]))(giving_input)) )\n",
    "\n",
    "giving_input=list(zip(name,age,height))\n",
    "\n",
    "\n",
    "\n",
    "\n",
    "#(Tom,19,80),(John,20,90),(Jony,17,91),(Jony,17,93),(Json,21,85)\n",
    "\n",
    "\n",
    "\n",
    "print('\\nSorted By Name, Age, Weight')\n",
    "\n",
    "sorted(giving_input,key=(itemgetter(0,1,2)))"
   ]
  },
  {
   "cell_type": "markdown",
   "metadata": {},
   "source": [
    "### 13.Class Generator for no divisible by 7"
   ]
  },
  {
   "cell_type": "code",
   "execution_count": 1105,
   "metadata": {},
   "outputs": [],
   "source": [
    "class Divisibles_descover():\n",
    "    def __init__(self,n):\n",
    "        self.n=n\n",
    "        \n",
    "    def seven(self):\n",
    "        for self.div in range(0,self.n+1,7):\n",
    "            yield self.div\n",
    "        \n",
    "    def error(self,gen):\n",
    "        self.gen=gen\n",
    "        try:\n",
    "            self.value=next(self.gen)\n",
    "            print(self.value)\n",
    "        except StopIteration as e:\n",
    "            print('Done')\n",
    "            \n",
    "        \n",
    "            "
   ]
  },
  {
   "cell_type": "code",
   "execution_count": 1106,
   "metadata": {},
   "outputs": [],
   "source": [
    "obj=Divisibles_descover(50)"
   ]
  },
  {
   "cell_type": "code",
   "execution_count": 1107,
   "metadata": {},
   "outputs": [],
   "source": [
    "generator=obj.seven()"
   ]
  },
  {
   "cell_type": "code",
   "execution_count": 1108,
   "metadata": {},
   "outputs": [],
   "source": [
    "control=obj.error  "
   ]
  },
  {
   "cell_type": "code",
   "execution_count": 1099,
   "metadata": {},
   "outputs": [
    {
     "name": "stdout",
     "output_type": "stream",
     "text": [
      "0\n",
      "7\n",
      "14\n",
      "21\n",
      "28\n",
      "35\n",
      "42\n",
      "49\n",
      "Done\n",
      "Done\n"
     ]
    }
   ],
   "source": [
    "for x in range(10):\n",
    "     control(generator) "
   ]
  },
  {
   "cell_type": "markdown",
   "metadata": {},
   "source": [
    "### 14. Find Robot displacement"
   ]
  },
  {
   "cell_type": "code",
   "execution_count": 9,
   "metadata": {},
   "outputs": [],
   "source": [
    "def direction():\n",
    "    up=float(input('Enter  UP    Movement :')),\n",
    "    down=float(input('Enter DOWN  Movement :')),\n",
    "    left=float(input('Enter LEFT  Movement :')),\n",
    "    right=float(input('Enter RIGHT Movement :')),\n",
    "    answer=input(f'Do u want to change original position? \\n default is (0,0)\\n Type y/n:')\n",
    "    if answer.lower()[0] == 'y':\n",
    "        original_pos=input('Original Position--> x,y : ')\n",
    "        original_pos=original_pos.split(',')\n",
    "        \n",
    "        original_pos[0],original_pos[1]=int(ls[0]),int(original_pos[1])\n",
    "    else:\n",
    "        original_pos=(0,0)\n",
    "    from math import sqrt\n",
    "    print('='*6)\n",
    "    y=up[0]-down[0] \n",
    "    x=right[0]-left[0]\n",
    "    print(f'original position : ({original_pos[0]},{original_pos[1]}) ')\n",
    "    print(f'current  position : ({x},{y})')\n",
    "    current_pos=['empty','empty']\n",
    "    \n",
    "    current_pos[0],current_pos[1]=(original_pos[0]-x) ,(original_pos[1]-y)\n",
    "    \n",
    "    displacement=round(sqrt( current_pos[0]**2 + current_pos[1]**2 ) )\n",
    "    \n",
    "    print(f'Displacement  : {displacement}')\n",
    "    "
   ]
  },
  {
   "cell_type": "code",
   "execution_count": 11,
   "metadata": {},
   "outputs": [
    {
     "name": "stdout",
     "output_type": "stream",
     "text": [
      "Enter  UP    Movement :5\n",
      "Enter DOWN  Movement :3\n",
      "Enter LEFT  Movement :3\n",
      "Enter RIGHT Movement :2\n",
      "Do u want to change original position? \n",
      " default is (0,0)\n",
      " Type y/n:n\n",
      "======\n",
      "original position : (0,0) \n",
      "current  position : (-1.0,2.0)\n",
      "Displacement  : 2\n"
     ]
    }
   ],
   "source": [
    "direction()"
   ]
  },
  {
   "cell_type": "markdown",
   "metadata": {},
   "source": [
    "### 15. Count Words Frequency In  A String"
   ]
  },
  {
   "cell_type": "code",
   "execution_count": 71,
   "metadata": {},
   "outputs": [
    {
     "name": "stdout",
     "output_type": "stream",
     "text": [
      "Enter String :New to Python or choosing between Python 2 and Python 3? Read Python 2 or Python 3.\n"
     ]
    }
   ],
   "source": [
    "sentence=input('Enter String :')\n",
    "#New to Python or choosing between Python 2 and Python 3? Read Python 2 or Python 3."
   ]
  },
  {
   "cell_type": "code",
   "execution_count": 72,
   "metadata": {},
   "outputs": [
    {
     "data": {
      "text/plain": [
       "{'2': 2,\n",
       " '3.': 1,\n",
       " '3?': 1,\n",
       " 'New': 1,\n",
       " 'Python': 5,\n",
       " 'Read': 1,\n",
       " 'and': 1,\n",
       " 'between': 1,\n",
       " 'choosing': 1,\n",
       " 'or': 2,\n",
       " 'to': 1}"
      ]
     },
     "execution_count": 72,
     "metadata": {},
     "output_type": "execute_result"
    }
   ],
   "source": [
    "from functools import reduce\n",
    "sent_ls=sentence.lower().split(' ')\n",
    "import re\n",
    "ls_words=re.compile(r'[^ ]+').findall(sentence)\n",
    "sorted_ls=sorted(ls_words)\n",
    "# di=dict()\n",
    "def fun(di,x):\n",
    "    di[x]=di.get(x,0)+1\n",
    "    return di\n",
    "di=reduce(fun,sorted_ls,{}) \n",
    "di"
   ]
  },
  {
   "cell_type": "code",
   "execution_count": 73,
   "metadata": {},
   "outputs": [
    {
     "name": "stdout",
     "output_type": "stream",
     "text": [
      "2:2\n",
      "3.:1\n",
      "3?:1\n",
      "New:1\n",
      "Python:5\n",
      "Read:1\n",
      "and:1\n",
      "between:1\n",
      "choosing:1\n",
      "or:2\n",
      "to:1\n"
     ]
    }
   ],
   "source": [
    "for k,v in di.items():\n",
    "    print(f'{k}:{v}')"
   ]
  },
  {
   "cell_type": "code",
   "execution_count": null,
   "metadata": {},
   "outputs": [],
   "source": []
  },
  {
   "cell_type": "code",
   "execution_count": null,
   "metadata": {},
   "outputs": [],
   "source": []
  }
 ],
 "metadata": {
  "kernelspec": {
   "display_name": "Python 3",
   "language": "python",
   "name": "python3"
  },
  "language_info": {
   "codemirror_mode": {
    "name": "ipython",
    "version": 3
   },
   "file_extension": ".py",
   "mimetype": "text/x-python",
   "name": "python",
   "nbconvert_exporter": "python",
   "pygments_lexer": "ipython3",
   "version": "3.7.3"
  }
 },
 "nbformat": 4,
 "nbformat_minor": 2
}
