{
 "cells": [
  {
   "cell_type": "markdown",
   "metadata": {},
   "source": [
    "###  Classic Chines Puzzle  \n",
    "\n",
    "so i have to ways to solve this puzzle \n",
    "1. using algebric linear equation\n",
    "2. intutively solving it\n",
    "\n",
    "###  Classic Chines Puzzle  \n",
    "\n",
    "ways to solve this puzzle \n",
    "1. using algebric linear equation\n",
    "\n",
    "##### Q) we count 35 heads and 94 legs among the chickens and rabbits in a farm find how many are chicken and how many are rabbits\n",
    "rabit has 4 legs<br>\n",
    "chicken has 2 legs<br>\n",
    "\n",
    "1. method algebra equation <br>\n",
    "   94  = no_of_chicken*2 + no_of_rabit*4<br>\n",
    "   35  = no_of_chicken + no_of_rabit<br>\n",
    "   \n",
    "   here unknow are <br>\n",
    "   ***no_of_cat*** <br>\n",
    "   ***no_of_rabit***  <br>\n",
    "   ***legs for each***<br>\n",
    "   3 unknow 2 equation so we can solve it<br> \n",
    "   \n",
    "   35 - no_of_rabit = no_of_cat<br>\n",
    "   puttinh  no_of_cat above equation into first one <br>\n",
    "   \n",
    "   so equation become <br>\n",
    "   94 = (35-rabit)*2 +(rabit)*4  <br>\n",
    "   now divide both sides with 2 we get <br>\n",
    "   47 = 35 - rabit + rabit*2<br>\n",
    "   47-35 = rabit\n",
    "   12 = rabit\n",
    "2. intutive way  <br>\n",
    "   \n",
    "   first lets just give away 2 legs to each head/animal<br>\n",
    "   so 35*2=70 we have just given 70 legs <br>\n",
    "   each animal has 2 legs now <br>\n",
    "   remaining legs are 94-70 =24 <br>\n",
    "   this remaining legs belong to rabit only because they are the only one who are missing legs<br>\n",
    "   chickens has already gone just by using there 2 legs which we gave<br>\n",
    "   rabits have to wait for second round of leg<br>\n",
    "   so remaing legs are 24 and each rabit get to so<br>\n",
    "   rabits = 24/2=12<br>\n",
    "   so 12 are rabit and 35-12=23 <br>\n",
    "   23 are chicken<br>\n",
    "   \n",
    "   this is called intutive way :P"
   ]
  },
  {
   "cell_type": "code",
   "execution_count": 9,
   "metadata": {},
   "outputs": [],
   "source": [
    "def chicken_rabit_farm(total_legs=94,total_heads=35):\n",
    "    rabit_leg=4\n",
    "    chicken_leg=2 \n",
    "    \n",
    "    first_round_legs_given=total_heads*chicken_leg #to eliminate  animal that have less leg requirment  compare to other one\n",
    "    remaining_leg= total_legs-first_round_legs_given\n",
    "    total_rabits=remaining_leg//2\n",
    "    total_chicken=total_heads-total_rabits\n",
    "    \n",
    "    print(f'Total Rabits are : {total_rabits}\\nTotal Chicken are : {total_chicken}')"
   ]
  },
  {
   "cell_type": "code",
   "execution_count": 13,
   "metadata": {},
   "outputs": [
    {
     "name": "stdout",
     "output_type": "stream",
     "text": [
      "Total Rabits are : 12\n",
      "Total Chicken are : 23\n"
     ]
    }
   ],
   "source": [
    "chicken_rabit_farm() #u can give argument any value of head and legs it will give u correct answer without for loop :P intution"
   ]
  },
  {
   "cell_type": "markdown",
   "metadata": {},
   "source": [
    "### 2.Display only even index character of string"
   ]
  },
  {
   "cell_type": "code",
   "execution_count": 16,
   "metadata": {},
   "outputs": [
    {
     "name": "stdout",
     "output_type": "stream",
     "text": [
      "Enter sentence :h1e2l3l4o5w6o7r8l9d\n",
      "helloworld\n"
     ]
    }
   ],
   "source": [
    "sentence=input('Enter sentence :')\n",
    "print(sentence[::2])"
   ]
  },
  {
   "cell_type": "markdown",
   "metadata": {},
   "source": [
    "### 3. reverse string order"
   ]
  },
  {
   "cell_type": "code",
   "execution_count": 17,
   "metadata": {},
   "outputs": [
    {
     "name": "stdout",
     "output_type": "stream",
     "text": [
      "Enter sentence :abcdefghijklmnopqurstuwxyz\n",
      "zyxwutsruqponmlkjihgfedcba\n"
     ]
    }
   ],
   "source": [
    "sentence=input('Enter sentence :')\n",
    "print(sentence[::-1])"
   ]
  },
  {
   "cell_type": "markdown",
   "metadata": {},
   "source": [
    "### 4. count character repetation in string\n",
    "using map-reducer technique"
   ]
  },
  {
   "cell_type": "code",
   "execution_count": 64,
   "metadata": {},
   "outputs": [
    {
     "name": "stdout",
     "output_type": "stream",
     "text": [
      "Enter sentence :abcdefgabc\n",
      "a , 2\n",
      "b , 2\n",
      "c , 2\n",
      "d , 1\n",
      "e , 1\n",
      "f , 1\n",
      "g , 1\n"
     ]
    }
   ],
   "source": [
    "sentence=input('Enter sentence :')\n",
    "ls=list(sentence)\n",
    "def count(n):\n",
    "    return 1\n",
    "mapped=list(map(count,ls))\n",
    "tup=tuple(zip(ls,mapped) )\n",
    "tup\n",
    "di=dict()\n",
    "for k,v in tup:\n",
    "    di[k]=di.get(k,0)+1\n",
    "di\n",
    "for k,v in di.items():\n",
    "    print(k,',',v)"
   ]
  },
  {
   "cell_type": "markdown",
   "metadata": {},
   "source": [
    "###### another way"
   ]
  },
  {
   "cell_type": "code",
   "execution_count": 65,
   "metadata": {},
   "outputs": [
    {
     "name": "stdout",
     "output_type": "stream",
     "text": [
      "a , 2\n",
      "b , 2\n",
      "c , 2\n",
      "d , 1\n",
      "e , 1\n",
      "f , 1\n",
      "g , 1\n"
     ]
    }
   ],
   "source": [
    "from functools import reduce\n",
    "def fun(d,x):\n",
    "    d[x]=d.get(x,0)+1\n",
    "    return d\n",
    "di=reduce(fun,ls,{})\n",
    "for k,v in di.items():\n",
    "    print(k,',',v)"
   ]
  },
  {
   "cell_type": "markdown",
   "metadata": {},
   "source": [
    "###### another method"
   ]
  },
  {
   "cell_type": "code",
   "execution_count": 66,
   "metadata": {},
   "outputs": [
    {
     "name": "stdout",
     "output_type": "stream",
     "text": [
      "a , 2\n",
      "b , 2\n",
      "c , 2\n",
      "d , 1\n",
      "e , 1\n",
      "f , 1\n",
      "g , 1\n"
     ]
    }
   ],
   "source": [
    "from collections import Counter\n",
    "count=Counter(sentence)\n",
    "di=dict(count)\n",
    "for k,v in di.items():\n",
    "    print(k,',',v)"
   ]
  },
  {
   "cell_type": "markdown",
   "metadata": {},
   "source": [
    "### 5.Define class Shape , subclass Square with Area function"
   ]
  },
  {
   "cell_type": "code",
   "execution_count": 115,
   "metadata": {},
   "outputs": [],
   "source": [
    "class Shape():\n",
    "        \n",
    "    def area(self):\n",
    "        self.area=0\n",
    "        print('shape area : {}'.format(self.area))"
   ]
  },
  {
   "cell_type": "code",
   "execution_count": 136,
   "metadata": {},
   "outputs": [],
   "source": [
    "class Square(Shape):\n",
    "    def __init__(self,length):\n",
    "        super().__init__()  #or use name directly    #Shape.__init__(self)\n",
    "        self.length=length\n",
    "        \n",
    "    def area(self):\n",
    "        self.area=self.length**2\n",
    "        print('area of square is : {}'.format(self.area)) "
   ]
  },
  {
   "cell_type": "code",
   "execution_count": 137,
   "metadata": {},
   "outputs": [],
   "source": [
    "obj=Square(10)"
   ]
  },
  {
   "cell_type": "code",
   "execution_count": 138,
   "metadata": {},
   "outputs": [
    {
     "name": "stdout",
     "output_type": "stream",
     "text": [
      "area of square is : 100\n"
     ]
    }
   ],
   "source": [
    "obj.area()"
   ]
  },
  {
   "cell_type": "code",
   "execution_count": 139,
   "metadata": {},
   "outputs": [],
   "source": [
    "obj=Shape()"
   ]
  },
  {
   "cell_type": "code",
   "execution_count": 140,
   "metadata": {},
   "outputs": [
    {
     "name": "stdout",
     "output_type": "stream",
     "text": [
      "shape area : 0\n"
     ]
    }
   ],
   "source": [
    "obj.area()"
   ]
  },
  {
   "cell_type": "markdown",
   "metadata": {},
   "source": [
    "### 6.Try Except"
   ]
  },
  {
   "cell_type": "code",
   "execution_count": 150,
   "metadata": {},
   "outputs": [],
   "source": [
    "def compute_division(numerator,denominator):\n",
    "    try:\n",
    "        result=numerator/denominator\n",
    "    except ZeroDivisionError as e:\n",
    "        print(e,'Error')"
   ]
  },
  {
   "cell_type": "code",
   "execution_count": 151,
   "metadata": {},
   "outputs": [
    {
     "name": "stdout",
     "output_type": "stream",
     "text": [
      "division by zero Error\n"
     ]
    }
   ],
   "source": [
    "compute_division(5,0)"
   ]
  },
  {
   "cell_type": "markdown",
   "metadata": {},
   "source": [
    "### 7. Get user name from email address"
   ]
  },
  {
   "cell_type": "code",
   "execution_count": 181,
   "metadata": {},
   "outputs": [
    {
     "name": "stdout",
     "output_type": "stream",
     "text": [
      "Enter email address : taimoor@gmail.com\n",
      "name of employee is Taimoor\n"
     ]
    }
   ],
   "source": [
    "email=input('Enter email address : ')\n",
    "import re\n",
    "name=re.compile(r'(\\w+)(?=@)',flags=re.IGNORECASE).findall(email)\n",
    "\n",
    "print('name of employee is {}'.format(name[0].title()))"
   ]
  },
  {
   "cell_type": "markdown",
   "metadata": {},
   "source": [
    "### 8.scrap digits from string"
   ]
  },
  {
   "cell_type": "code",
   "execution_count": 183,
   "metadata": {},
   "outputs": [
    {
     "name": "stdout",
     "output_type": "stream",
     "text": [
      "Enter string : 2 cats 3 dogs\n"
     ]
    },
    {
     "data": {
      "text/plain": [
       "['2', '3']"
      ]
     },
     "execution_count": 183,
     "metadata": {},
     "output_type": "execute_result"
    }
   ],
   "source": [
    "sentence=input('Enter string : ')\n",
    "import re\n",
    "re.compile(r'[0-9]+').findall(sentence)"
   ]
  },
  {
   "cell_type": "markdown",
   "metadata": {},
   "source": [
    "### 9.Compute Sequence sum"
   ]
  },
  {
   "cell_type": "code",
   "execution_count": 203,
   "metadata": {},
   "outputs": [],
   "source": [
    "def compute_sequence_sum(n=5):\n",
    "    if n == 1:\n",
    "        \n",
    "        return 1/2\n",
    "    else:\n",
    "        \n",
    "        return round(n/(n+1) + compute_sequence_sum(n-1),2)"
   ]
  },
  {
   "cell_type": "code",
   "execution_count": 204,
   "metadata": {},
   "outputs": [
    {
     "name": "stdout",
     "output_type": "stream",
     "text": [
      "Enter nth term of sequence : 5\n"
     ]
    },
    {
     "data": {
      "text/plain": [
       "3.55"
      ]
     },
     "execution_count": 204,
     "metadata": {},
     "output_type": "execute_result"
    }
   ],
   "source": [
    "n=float(input('Enter nth term of sequence : '))\n",
    "compute_sequence_sum()"
   ]
  },
  {
   "cell_type": "markdown",
   "metadata": {},
   "source": [
    "### 10. Additor Function:"
   ]
  },
  {
   "cell_type": "code",
   "execution_count": 262,
   "metadata": {},
   "outputs": [],
   "source": [
    "def additor_fun(n):\n",
    "    if n>0:\n",
    "        return multiplier_fun(n-1) +100 -1\n",
    "    elif n == 0:\n",
    "        return 1\n",
    "   "
   ]
  },
  {
   "cell_type": "code",
   "execution_count": 265,
   "metadata": {},
   "outputs": [
    {
     "data": {
      "text/plain": [
       "500"
      ]
     },
     "execution_count": 265,
     "metadata": {},
     "output_type": "execute_result"
    }
   ],
   "source": [
    "additor_fun(5)"
   ]
  },
  {
   "cell_type": "markdown",
   "metadata": {},
   "source": [
    "### 11.Check Passoward validation"
   ]
  },
  {
   "cell_type": "code",
   "execution_count": 558,
   "metadata": {},
   "outputs": [],
   "source": [
    "def password_checker(passwords):\n",
    "    import re\n",
    "#     print(passwords)\n",
    "    for password in passwords:\n",
    "        no_of_pass=0\n",
    "        for check in [r'[a-z]+',r'[0-9]+',r'[A-Z]+',r'[$#@\\s]+',r'^\\w+[^\\s]+']:\n",
    "            if (re.search(check,password) != None) & (len(password) >=6 & len(password) <=12):\n",
    "                no_of_pass+=1\n",
    "                print('\\n',password,'\\npassword is valid') if no_of_pass == 5 else None\n",
    "            else:\n",
    "#                 print(check,password)\n",
    "                break\n",
    "\n",
    "        "
   ]
  },
  {
   "cell_type": "code",
   "execution_count": 561,
   "metadata": {},
   "outputs": [
    {
     "name": "stdout",
     "output_type": "stream",
     "text": [
      "Enter All Passwords Seperated By Comma :ABs@123,a F1#,2w3E,2We3345\n",
      "\n",
      " ABs@123 \n",
      "password is valid\n"
     ]
    }
   ],
   "source": [
    "ls=input('Enter All Passwords Seperated By Comma :')\n",
    "ls=ls.split(',')\n",
    "password_checker(ls)"
   ]
  },
  {
   "cell_type": "markdown",
   "metadata": {},
   "source": [
    "### 12. Sort By Name , Age,Height"
   ]
  },
  {
   "cell_type": "code",
   "execution_count": 616,
   "metadata": {},
   "outputs": [],
   "source": [
    "# giving_input=[('Bilal',20,90),('Ali',18,91),('Bi',12,90),('Bi',12,7)]\n",
    "# giving_input=(input('Enter tuples :')\n",
    "\n",
    "\n",
    "\n",
    "giving_input=[('Tom',19,80),('John',20,90),('Jony',17,91),('Jony',17,93),('Json',21,85)]"
   ]
  },
  {
   "cell_type": "markdown",
   "metadata": {},
   "source": [
    "###### list comprehension"
   ]
  },
  {
   "cell_type": "code",
   "execution_count": 617,
   "metadata": {},
   "outputs": [
    {
     "data": {
      "text/plain": [
       "[('John', 20, 90),\n",
       " ('Jony', 17, 91),\n",
       " ('Jony', 17, 93),\n",
       " ('Json', 21, 85),\n",
       " ('Tom', 19, 80)]"
      ]
     },
     "execution_count": 617,
     "metadata": {},
     "output_type": "execute_result"
    }
   ],
   "source": [
    "giving_input_sorted=[sorted(giving_input,key=lambda x:x[index]) for index in range(2,-1,-1)][-1]\n",
    "\n",
    "giving_input_sorted"
   ]
  },
  {
   "cell_type": "markdown",
   "metadata": {},
   "source": [
    "##### without list comprehension"
   ]
  },
  {
   "cell_type": "code",
   "execution_count": 618,
   "metadata": {},
   "outputs": [
    {
     "data": {
      "text/plain": [
       "[('John', 20, 90),\n",
       " ('Jony', 17, 91),\n",
       " ('Jony', 17, 93),\n",
       " ('Json', 21, 85),\n",
       " ('Tom', 19, 80)]"
      ]
     },
     "execution_count": 618,
     "metadata": {},
     "output_type": "execute_result"
    }
   ],
   "source": [
    "for index in range(2,-1,-1):\n",
    "    giving_input=sorted(giving_input,key=lambda x:x[index])\n",
    "\n",
    "giving_input  "
   ]
  },
  {
   "cell_type": "markdown",
   "metadata": {},
   "source": [
    "##### using itemgetter"
   ]
  },
  {
   "cell_type": "code",
   "execution_count": 619,
   "metadata": {},
   "outputs": [
    {
     "data": {
      "text/plain": [
       "[('John', 20, 90),\n",
       " ('Jony', 17, 91),\n",
       " ('Jony', 17, 93),\n",
       " ('Json', 21, 85),\n",
       " ('Tom', 19, 80)]"
      ]
     },
     "execution_count": 619,
     "metadata": {},
     "output_type": "execute_result"
    }
   ],
   "source": [
    "from operator import itemgetter\n",
    "# giving_input=[('Bilal',20,90),('Ali',18,91),('Bi',12,90),('Bi',12,7)]\n",
    "giving_input=[('Tom',19,80),('John',20,90),('Jony',17,91),('Jony',17,93),('Json',21,85)]\n",
    "\n",
    "sorted(giving_input,key=(itemgetter(0,1,2)))"
   ]
  },
  {
   "cell_type": "code",
   "execution_count": null,
   "metadata": {},
   "outputs": [],
   "source": []
  }
 ],
 "metadata": {
  "kernelspec": {
   "display_name": "Python 3",
   "language": "python",
   "name": "python3"
  },
  "language_info": {
   "codemirror_mode": {
    "name": "ipython",
    "version": 3
   },
   "file_extension": ".py",
   "mimetype": "text/x-python",
   "name": "python",
   "nbconvert_exporter": "python",
   "pygments_lexer": "ipython3",
   "version": "3.7.3"
  }
 },
 "nbformat": 4,
 "nbformat_minor": 2
}
